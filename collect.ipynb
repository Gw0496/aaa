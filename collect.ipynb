{
  "nbformat": 4,
  "nbformat_minor": 0,
  "metadata": {
    "colab": {
      "name": "collect.ipynb",
      "provenance": [],
      "mount_file_id": "1FD-1WpNAAPWmW8DXMT_AIMe_B93OQBij",
      "authorship_tag": "ABX9TyPd47edOZwL2bVZhCZeFDR0",
      "include_colab_link": true
    },
    "kernelspec": {
      "name": "python3",
      "display_name": "Python 3"
    }
  },
  "cells": [
    {
      "cell_type": "markdown",
      "metadata": {
        "id": "view-in-github",
        "colab_type": "text"
      },
      "source": [
        "<a href=\"https://colab.research.google.com/github/Gw0496/aaa/blob/master/collect.ipynb\" target=\"_parent\"><img src=\"https://colab.research.google.com/assets/colab-badge.svg\" alt=\"Open In Colab\"/></a>"
      ]
    },
    {
      "cell_type": "code",
      "metadata": {
        "id": "1Qe470JpMgLL",
        "colab_type": "code",
        "colab": {}
      },
      "source": [
        "# ライブラリのインストール\n",
        "!pip install icrawler\n"
      ],
      "execution_count": null,
      "outputs": []
    }
  ]
}